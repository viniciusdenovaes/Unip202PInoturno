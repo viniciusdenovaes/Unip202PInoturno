{
 "cells": [
  {
   "cell_type": "code",
   "execution_count": 1,
   "metadata": {},
   "outputs": [],
   "source": [
    "import sys\n",
    "# insert at 1, 0 is the script path (or '' in REPL)\n",
    "sys.path.insert(1, '../src')"
   ]
  },
  {
   "cell_type": "code",
   "execution_count": 2,
   "metadata": {},
   "outputs": [],
   "source": [
    "from util import img_rgb_to_cinza, img_to_matrix, calc_histograma, img_rgb_to_cinza_1_canal"
   ]
  },
  {
   "cell_type": "code",
   "execution_count": 3,
   "metadata": {},
   "outputs": [],
   "source": [
    "import numpy as np\n",
    "import matplotlib.image as im\n",
    "import matplotlib.pyplot as plt\n",
    "import pandas as pd"
   ]
  },
  {
   "cell_type": "code",
   "execution_count": 4,
   "metadata": {},
   "outputs": [],
   "source": [
    "matriz_rgb = img_to_matrix('../../images/exemplos_prontos/Starry_Night_Over_the_Rhone.jpg')"
   ]
  },
  {
   "cell_type": "code",
   "execution_count": 6,
   "metadata": {},
   "outputs": [],
   "source": [
    "matriz_cinza_1_canal = img_rgb_to_cinza_1_canal(matriz_rgb)"
   ]
  },
  {
   "cell_type": "code",
   "execution_count": 7,
   "metadata": {},
   "outputs": [],
   "source": [
    "matriz_resultado = np.zeros(matriz_cinza_1_canal.shape, dtype=int)"
   ]
  },
  {
   "cell_type": "code",
   "execution_count": 10,
   "metadata": {},
   "outputs": [],
   "source": [
    "for l in range(matriz_cinza_1_canal.shape[0]):\n",
    "    for c in range(matriz_cinza_1_canal.shape[1]):\n",
    "        if l==0 or c==0 or l==matriz_cinza_1_canal.shape[0]-1 or c==matriz_cinza_1_canal.shape[1]-1:\n",
    "            continue\n",
    "        matriz_resultado[l,c] = matriz_cinza_1_canal[l-1,c-1] + \\\n",
    "                                matriz_cinza_1_canal[l-1,c  ] + \\\n",
    "                                matriz_cinza_1_canal[l-1,c+1] + \\\n",
    "                                matriz_cinza_1_canal[l  ,c-1] + \\\n",
    "                                matriz_cinza_1_canal[l  ,c  ] + \\\n",
    "                                matriz_cinza_1_canal[l  ,c+1] + \\\n",
    "                                matriz_cinza_1_canal[l+1,c-1] + \\\n",
    "                                matriz_cinza_1_canal[l+1,c  ] + \\\n",
    "                                matriz_cinza_1_canal[l+1,c+1]\n",
    "        matriz_resultado[l,c] = matriz_resultado[l,c]/9\n"
   ]
  },
  {
   "cell_type": "code",
   "execution_count": null,
   "metadata": {},
   "outputs": [],
   "source": []
  }
 ],
 "metadata": {
  "kernelspec": {
   "display_name": "Python 3",
   "language": "python",
   "name": "python3"
  },
  "language_info": {
   "codemirror_mode": {
    "name": "ipython",
    "version": 3
   },
   "file_extension": ".py",
   "mimetype": "text/x-python",
   "name": "python",
   "nbconvert_exporter": "python",
   "pygments_lexer": "ipython3",
   "version": "3.8.2"
  }
 },
 "nbformat": 4,
 "nbformat_minor": 4
}
