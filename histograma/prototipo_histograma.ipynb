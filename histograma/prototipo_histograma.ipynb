{
 "cells": [
  {
   "cell_type": "code",
   "execution_count": 3,
   "metadata": {},
   "outputs": [],
   "source": [
    "import sys\n",
    "# insert at 1, 0 is the script path (or '' in REPL)\n",
    "sys.path.insert(1, '../src')"
   ]
  },
  {
   "cell_type": "code",
   "execution_count": 4,
   "metadata": {},
   "outputs": [],
   "source": [
    "from util import img_rgb_to_cinza, img_to_matrix, calc_histograma"
   ]
  },
  {
   "cell_type": "code",
   "execution_count": 5,
   "metadata": {},
   "outputs": [],
   "source": [
    "import numpy as np\n",
    "import matplotlib.image as im\n",
    "import matplotlib.pyplot as plt\n",
    "import pandas as pd"
   ]
  },
  {
   "cell_type": "code",
   "execution_count": null,
   "metadata": {},
   "outputs": [],
   "source": [
    "image_matrix = im.imread('../imagens/exemplos_gerados/quadrado_10x10.tiff')"
   ]
  },
  {
   "cell_type": "code",
   "execution_count": null,
   "metadata": {},
   "outputs": [],
   "source": [
    "image_matrix.shape"
   ]
  },
  {
   "cell_type": "code",
   "execution_count": null,
   "metadata": {},
   "outputs": [],
   "source": [
    "image_matrix"
   ]
  },
  {
   "cell_type": "code",
   "execution_count": null,
   "metadata": {},
   "outputs": [],
   "source": [
    " plt.imshow(image_matrix)"
   ]
  },
  {
   "cell_type": "code",
   "execution_count": null,
   "metadata": {
    "scrolled": false
   },
   "outputs": [],
   "source": [
    "image_matrix[:, :, 0]"
   ]
  },
  {
   "cell_type": "code",
   "execution_count": null,
   "metadata": {
    "scrolled": true
   },
   "outputs": [],
   "source": [
    "image_matrix[:, :, 1]"
   ]
  },
  {
   "cell_type": "code",
   "execution_count": null,
   "metadata": {
    "scrolled": true
   },
   "outputs": [],
   "source": [
    "image_matrix[:, :, 2]"
   ]
  },
  {
   "cell_type": "code",
   "execution_count": null,
   "metadata": {},
   "outputs": [],
   "source": [
    "image_matrix[:, :, 0].shape"
   ]
  },
  {
   "cell_type": "code",
   "execution_count": null,
   "metadata": {},
   "outputs": [],
   "source": [
    "matrix_cinza = np.zeros(image_matrix[:, :, 0].shape)"
   ]
  },
  {
   "cell_type": "code",
   "execution_count": null,
   "metadata": {},
   "outputs": [],
   "source": [
    "matrix_cinza"
   ]
  },
  {
   "cell_type": "code",
   "execution_count": null,
   "metadata": {},
   "outputs": [],
   "source": [
    "matrix_cinza[1,1]"
   ]
  },
  {
   "cell_type": "code",
   "execution_count": null,
   "metadata": {},
   "outputs": [],
   "source": [
    "image_matrix[2,7,0]"
   ]
  },
  {
   "cell_type": "code",
   "execution_count": null,
   "metadata": {},
   "outputs": [],
   "source": [
    "image_matrix[2,7,1]"
   ]
  },
  {
   "cell_type": "code",
   "execution_count": null,
   "metadata": {},
   "outputs": [],
   "source": [
    "for i in range(matrix_cinza.shape[0]):\n",
    "    for j in range(matrix_cinza.shape[1]):\n",
    "        matrix_cinza[i,j] = (int(image_matrix[i,j,0])+\n",
    "                             int(image_matrix[i,j,1])+\n",
    "                             int(image_matrix[i,j,2]))/3.0\n",
    "            \n",
    "    "
   ]
  },
  {
   "cell_type": "code",
   "execution_count": null,
   "metadata": {},
   "outputs": [],
   "source": [
    "4/3"
   ]
  },
  {
   "cell_type": "code",
   "execution_count": null,
   "metadata": {},
   "outputs": [],
   "source": [
    "matrix_cinza = matrix_cinza.astype(int)"
   ]
  },
  {
   "cell_type": "code",
   "execution_count": null,
   "metadata": {},
   "outputs": [],
   "source": [
    "matrix_cinza"
   ]
  },
  {
   "cell_type": "code",
   "execution_count": null,
   "metadata": {},
   "outputs": [],
   "source": [
    "matrix_gray_rgb = np.zeros(image_matrix.shape)"
   ]
  },
  {
   "cell_type": "code",
   "execution_count": null,
   "metadata": {},
   "outputs": [],
   "source": [
    "matrix_gray_rgb"
   ]
  },
  {
   "cell_type": "code",
   "execution_count": null,
   "metadata": {},
   "outputs": [],
   "source": [
    "for i in range(matrix_cinza.shape[0]):\n",
    "    for j in range(matrix_cinza.shape[1]):\n",
    "        matrix_gray_rgb[i, j, 0] = matrix_cinza[i,j]\n",
    "        matrix_gray_rgb[i, j, 1] = matrix_cinza[i,j]\n",
    "        matrix_gray_rgb[i, j, 2] = matrix_cinza[i,j]\n"
   ]
  },
  {
   "cell_type": "code",
   "execution_count": null,
   "metadata": {},
   "outputs": [],
   "source": [
    "matrix_gray_rgb = matrix_gray_rgb.astype(int)"
   ]
  },
  {
   "cell_type": "code",
   "execution_count": null,
   "metadata": {},
   "outputs": [],
   "source": [
    "plt.imshow(matrix_gray_rgb)"
   ]
  },
  {
   "cell_type": "markdown",
   "metadata": {},
   "source": [
    "### Histograma"
   ]
  },
  {
   "cell_type": "code",
   "execution_count": null,
   "metadata": {},
   "outputs": [],
   "source": [
    "histograma = np.zeros(256)"
   ]
  },
  {
   "cell_type": "code",
   "execution_count": null,
   "metadata": {},
   "outputs": [],
   "source": [
    "histograma"
   ]
  },
  {
   "cell_type": "code",
   "execution_count": null,
   "metadata": {},
   "outputs": [],
   "source": [
    "for i in range(matrix_cinza.shape[0]):\n",
    "    for j in range(matrix_cinza.shape[1]):\n",
    "        histograma[matrix_cinza[i,j]] = histograma[matrix_cinza[i,j]] + 1.0\n"
   ]
  },
  {
   "cell_type": "code",
   "execution_count": null,
   "metadata": {
    "scrolled": true
   },
   "outputs": [],
   "source": [
    "histograma"
   ]
  },
  {
   "cell_type": "code",
   "execution_count": null,
   "metadata": {},
   "outputs": [],
   "source": [
    "import pandas as pd\n",
    "pd_histograma = pd.Series(histograma)"
   ]
  },
  {
   "cell_type": "code",
   "execution_count": null,
   "metadata": {},
   "outputs": [],
   "source": [
    "pd_histograma"
   ]
  },
  {
   "cell_type": "code",
   "execution_count": null,
   "metadata": {
    "scrolled": true
   },
   "outputs": [],
   "source": [
    "pd_histograma.plot()"
   ]
  },
  {
   "cell_type": "markdown",
   "metadata": {},
   "source": [
    "### Usando Funções Definidas No src"
   ]
  },
  {
   "cell_type": "code",
   "execution_count": 7,
   "metadata": {},
   "outputs": [],
   "source": [
    "matrix = img_to_matrix('../imagens/800px-Pavlovsk_Railing_of_bridge_Yellow_palace_Winter.jpg')"
   ]
  },
  {
   "cell_type": "code",
   "execution_count": 8,
   "metadata": {},
   "outputs": [],
   "source": [
    "matrix_cinza = img_rgb_to_cinza(matrix)"
   ]
  },
  {
   "cell_type": "code",
   "execution_count": 9,
   "metadata": {},
   "outputs": [
    {
     "data": {
      "text/plain": [
       "array([[[  4,   4,   4],\n",
       "        [  5,   5,   5],\n",
       "        [  5,   5,   5],\n",
       "        ...,\n",
       "        [243, 243, 243],\n",
       "        [236, 236, 236],\n",
       "        [240, 240, 240]],\n",
       "\n",
       "       [[  4,   4,   4],\n",
       "        [  5,   5,   5],\n",
       "        [  5,   5,   5],\n",
       "        ...,\n",
       "        [238, 238, 238],\n",
       "        [241, 241, 241],\n",
       "        [247, 247, 247]],\n",
       "\n",
       "       [[  4,   4,   4],\n",
       "        [  5,   5,   5],\n",
       "        [  5,   5,   5],\n",
       "        ...,\n",
       "        [238, 238, 238],\n",
       "        [239, 239, 239],\n",
       "        [237, 237, 237]],\n",
       "\n",
       "       ...,\n",
       "\n",
       "       [[208, 208, 208],\n",
       "        [211, 211, 211],\n",
       "        [213, 213, 213],\n",
       "        ...,\n",
       "        [237, 237, 237],\n",
       "        [236, 236, 236],\n",
       "        [236, 236, 236]],\n",
       "\n",
       "       [[207, 207, 207],\n",
       "        [210, 210, 210],\n",
       "        [212, 212, 212],\n",
       "        ...,\n",
       "        [240, 240, 240],\n",
       "        [239, 239, 239],\n",
       "        [239, 239, 239]],\n",
       "\n",
       "       [[206, 206, 206],\n",
       "        [209, 209, 209],\n",
       "        [211, 211, 211],\n",
       "        ...,\n",
       "        [241, 241, 241],\n",
       "        [240, 240, 240],\n",
       "        [240, 240, 240]]])"
      ]
     },
     "execution_count": 9,
     "metadata": {},
     "output_type": "execute_result"
    }
   ],
   "source": [
    "matrix_cinza"
   ]
  },
  {
   "cell_type": "code",
   "execution_count": 10,
   "metadata": {},
   "outputs": [
    {
     "data": {
      "text/plain": [
       "4"
      ]
     },
     "execution_count": 10,
     "metadata": {},
     "output_type": "execute_result"
    }
   ],
   "source": [
    "matrix_cinza[10, 10, 0]"
   ]
  },
  {
   "cell_type": "code",
   "execution_count": 11,
   "metadata": {},
   "outputs": [
    {
     "data": {
      "text/plain": [
       "numpy.int64"
      ]
     },
     "execution_count": 11,
     "metadata": {},
     "output_type": "execute_result"
    }
   ],
   "source": [
    "type(matrix_cinza[10, 10, 0])"
   ]
  },
  {
   "cell_type": "code",
   "execution_count": null,
   "metadata": {},
   "outputs": [],
   "source": [
    "histograma = np.zeros(256)\n",
    "for i in range(matrix_cinza.shape[0]):\n",
    "    for j in range(matrix_cinza.shape[1]):\n",
    "        histograma[int(matrix_cinza[i, j, 0])] = histograma[int(matrix_cinza[i, j, 0])] + 1.0\n"
   ]
  },
  {
   "cell_type": "code",
   "execution_count": 12,
   "metadata": {},
   "outputs": [],
   "source": [
    "histograma = calc_histograma(matrix_cinza)"
   ]
  },
  {
   "cell_type": "code",
   "execution_count": 13,
   "metadata": {},
   "outputs": [
    {
     "data": {
      "text/plain": [
       "<AxesSubplot:>"
      ]
     },
     "execution_count": 13,
     "metadata": {},
     "output_type": "execute_result"
    },
    {
     "data": {
      "image/png": "[encoded data removed]",
      "text/plain": [
       "<Figure size 432x288 with 1 Axes>"
      ]
     },
     "metadata": {
      "needs_background": "light"
     },
     "output_type": "display_data"
    }
   ],
   "source": [
    "pd.Series(histograma).plot()"
   ]
  },
  {
   "cell_type": "code",
   "execution_count": null,
   "metadata": {},
   "outputs": [],
   "source": [
    "matrix.shape"
   ]
  },
  {
   "cell_type": "code",
   "execution_count": null,
   "metadata": {},
   "outputs": [],
   "source": [
    " plt.imshow(matrix)"
   ]
  },
  {
   "cell_type": "code",
   "execution_count": null,
   "metadata": {},
   "outputs": [],
   "source": [
    " matrix_cinza[:, :, 0].astype(int)"
   ]
  },
  {
   "cell_type": "code",
   "execution_count": null,
   "metadata": {},
   "outputs": [],
   "source": [
    " plt.imshow(matrix_cinza.astype(int))"
   ]
  },
  {
   "cell_type": "code",
   "execution_count": 16,
   "metadata": {},
   "outputs": [],
   "source": [
    "mapeamento = {}\n",
    "threshold = 150"
   ]
  },
  {
   "cell_type": "code",
   "execution_count": 19,
   "metadata": {},
   "outputs": [],
   "source": [
    "for i in range(256):\n",
    "    if i < threshold:\n",
    "        mapeamento[i] = 0\n",
    "    else:\n",
    "        mapeamento[i] = 255\n"
   ]
  },
  {
   "cell_type": "code",
   "execution_count": 20,
   "metadata": {},
   "outputs": [
    {
     "data": {
      "text/plain": [
       "{0: 0,\n",
       " 1: 0,\n",
       " 2: 0,\n",
       " 3: 0,\n",
       " 4: 0,\n",
       " 5: 0,\n",
       " 6: 0,\n",
       " 7: 0,\n",
       " 8: 0,\n",
       " 9: 0,\n",
       " 10: 0,\n",
       " 11: 0,\n",
       " 12: 0,\n",
       " 13: 0,\n",
       " 14: 0,\n",
       " 15: 0,\n",
       " 16: 0,\n",
       " 17: 0,\n",
       " 18: 0,\n",
       " 19: 0,\n",
       " 20: 0,\n",
       " 21: 0,\n",
       " 22: 0,\n",
       " 23: 0,\n",
       " 24: 0,\n",
       " 25: 0,\n",
       " 26: 0,\n",
       " 27: 0,\n",
       " 28: 0,\n",
       " 29: 0,\n",
       " 30: 0,\n",
       " 31: 0,\n",
       " 32: 0,\n",
       " 33: 0,\n",
       " 34: 0,\n",
       " 35: 0,\n",
       " 36: 0,\n",
       " 37: 0,\n",
       " 38: 0,\n",
       " 39: 0,\n",
       " 40: 0,\n",
       " 41: 0,\n",
       " 42: 0,\n",
       " 43: 0,\n",
       " 44: 0,\n",
       " 45: 0,\n",
       " 46: 0,\n",
       " 47: 0,\n",
       " 48: 0,\n",
       " 49: 0,\n",
       " 50: 0,\n",
       " 51: 0,\n",
       " 52: 0,\n",
       " 53: 0,\n",
       " 54: 0,\n",
       " 55: 0,\n",
       " 56: 0,\n",
       " 57: 0,\n",
       " 58: 0,\n",
       " 59: 0,\n",
       " 60: 0,\n",
       " 61: 0,\n",
       " 62: 0,\n",
       " 63: 0,\n",
       " 64: 0,\n",
       " 65: 0,\n",
       " 66: 0,\n",
       " 67: 0,\n",
       " 68: 0,\n",
       " 69: 0,\n",
       " 70: 0,\n",
       " 71: 0,\n",
       " 72: 0,\n",
       " 73: 0,\n",
       " 74: 0,\n",
       " 75: 0,\n",
       " 76: 0,\n",
       " 77: 0,\n",
       " 78: 0,\n",
       " 79: 0,\n",
       " 80: 0,\n",
       " 81: 0,\n",
       " 82: 0,\n",
       " 83: 0,\n",
       " 84: 0,\n",
       " 85: 0,\n",
       " 86: 0,\n",
       " 87: 0,\n",
       " 88: 0,\n",
       " 89: 0,\n",
       " 90: 0,\n",
       " 91: 0,\n",
       " 92: 0,\n",
       " 93: 0,\n",
       " 94: 0,\n",
       " 95: 0,\n",
       " 96: 0,\n",
       " 97: 0,\n",
       " 98: 0,\n",
       " 99: 0,\n",
       " 100: 0,\n",
       " 101: 0,\n",
       " 102: 0,\n",
       " 103: 0,\n",
       " 104: 0,\n",
       " 105: 0,\n",
       " 106: 0,\n",
       " 107: 0,\n",
       " 108: 0,\n",
       " 109: 0,\n",
       " 110: 0,\n",
       " 111: 0,\n",
       " 112: 0,\n",
       " 113: 0,\n",
       " 114: 0,\n",
       " 115: 0,\n",
       " 116: 0,\n",
       " 117: 0,\n",
       " 118: 0,\n",
       " 119: 0,\n",
       " 120: 0,\n",
       " 121: 0,\n",
       " 122: 0,\n",
       " 123: 0,\n",
       " 124: 0,\n",
       " 125: 0,\n",
       " 126: 0,\n",
       " 127: 0,\n",
       " 128: 0,\n",
       " 129: 0,\n",
       " 130: 0,\n",
       " 131: 0,\n",
       " 132: 0,\n",
       " 133: 0,\n",
       " 134: 0,\n",
       " 135: 0,\n",
       " 136: 0,\n",
       " 137: 0,\n",
       " 138: 0,\n",
       " 139: 0,\n",
       " 140: 0,\n",
       " 141: 0,\n",
       " 142: 0,\n",
       " 143: 0,\n",
       " 144: 0,\n",
       " 145: 0,\n",
       " 146: 0,\n",
       " 147: 0,\n",
       " 148: 0,\n",
       " 149: 0,\n",
       " 150: 255,\n",
       " 151: 255,\n",
       " 152: 255,\n",
       " 153: 255,\n",
       " 154: 255,\n",
       " 155: 255,\n",
       " 156: 255,\n",
       " 157: 255,\n",
       " 158: 255,\n",
       " 159: 255,\n",
       " 160: 255,\n",
       " 161: 255,\n",
       " 162: 255,\n",
       " 163: 255,\n",
       " 164: 255,\n",
       " 165: 255,\n",
       " 166: 255,\n",
       " 167: 255,\n",
       " 168: 255,\n",
       " 169: 255,\n",
       " 170: 255,\n",
       " 171: 255,\n",
       " 172: 255,\n",
       " 173: 255,\n",
       " 174: 255,\n",
       " 175: 255,\n",
       " 176: 255,\n",
       " 177: 255,\n",
       " 178: 255,\n",
       " 179: 255,\n",
       " 180: 255,\n",
       " 181: 255,\n",
       " 182: 255,\n",
       " 183: 255,\n",
       " 184: 255,\n",
       " 185: 255,\n",
       " 186: 255,\n",
       " 187: 255,\n",
       " 188: 255,\n",
       " 189: 255,\n",
       " 190: 255,\n",
       " 191: 255,\n",
       " 192: 255,\n",
       " 193: 255,\n",
       " 194: 255,\n",
       " 195: 255,\n",
       " 196: 255,\n",
       " 197: 255,\n",
       " 198: 255,\n",
       " 199: 255,\n",
       " 200: 255,\n",
       " 201: 255,\n",
       " 202: 255,\n",
       " 203: 255,\n",
       " 204: 255,\n",
       " 205: 255,\n",
       " 206: 255,\n",
       " 207: 255,\n",
       " 208: 255,\n",
       " 209: 255,\n",
       " 210: 255,\n",
       " 211: 255,\n",
       " 212: 255,\n",
       " 213: 255,\n",
       " 214: 255,\n",
       " 215: 255,\n",
       " 216: 255,\n",
       " 217: 255,\n",
       " 218: 255,\n",
       " 219: 255,\n",
       " 220: 255,\n",
       " 221: 255,\n",
       " 222: 255,\n",
       " 223: 255,\n",
       " 224: 255,\n",
       " 225: 255,\n",
       " 226: 255,\n",
       " 227: 255,\n",
       " 228: 255,\n",
       " 229: 255,\n",
       " 230: 255,\n",
       " 231: 255,\n",
       " 232: 255,\n",
       " 233: 255,\n",
       " 234: 255,\n",
       " 235: 255,\n",
       " 236: 255,\n",
       " 237: 255,\n",
       " 238: 255,\n",
       " 239: 255,\n",
       " 240: 255,\n",
       " 241: 255,\n",
       " 242: 255,\n",
       " 243: 255,\n",
       " 244: 255,\n",
       " 245: 255,\n",
       " 246: 255,\n",
       " 247: 255,\n",
       " 248: 255,\n",
       " 249: 255,\n",
       " 250: 255,\n",
       " 251: 255,\n",
       " 252: 255,\n",
       " 253: 255,\n",
       " 254: 255,\n",
       " 255: 255}"
      ]
     },
     "execution_count": 20,
     "metadata": {},
     "output_type": "execute_result"
    }
   ],
   "source": [
    "mapeamento"
   ]
  },
  {
   "cell_type": "code",
   "execution_count": null,
   "metadata": {},
   "outputs": [],
   "source": [
    "matrix_binaria = np.zeros(matrix_img_rgb.shape, dtype=int)\n",
    "\n",
    "    for i in range(matrix_cinza.shape[0]):\n",
    "        for j in range(matrix_cinza.shape[1]):\n",
    "            matrix_gray_rgb[i, j, 0] = matrix_cinza[i, j]\n",
    "            matrix_gray_rgb[i, j, 1] = matrix_cinza[i, j]\n",
    "            matrix_gray_rgb[i, j, 2] = matrix_cinza[i, j]\n",
    "\n"
   ]
  }
 ],
 "metadata": {
  "kernelspec": {
   "display_name": "Python 3",
   "language": "python",
   "name": "python3"
  },
  "language_info": {
   "codemirror_mode": {
    "name": "ipython",
    "version": 3
   },
   "file_extension": ".py",
   "mimetype": "text/x-python",
   "name": "python",
   "nbconvert_exporter": "python",
   "pygments_lexer": "ipython3",
   "version": "3.8.2"
  }
 },
 "nbformat": 4,
 "nbformat_minor": 4
}
